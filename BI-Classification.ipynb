{
 "cells": [
  {
   "cell_type": "code",
   "execution_count": 2,
   "id": "7f7f1477-ea70-4e76-a1d5-a0972add73e4",
   "metadata": {},
   "outputs": [
    {
     "name": "stdout",
     "output_type": "stream",
     "text": [
      "Confusion Matrix:\n",
      "[[17  0]\n",
      " [ 0 13]]\n",
      "\n",
      "Classification Report:\n",
      "              precision    recall  f1-score   support\n",
      "\n",
      "        Male       1.00      1.00      1.00        17\n",
      "      Female       1.00      1.00      1.00        13\n",
      "\n",
      "    accuracy                           1.00        30\n",
      "   macro avg       1.00      1.00      1.00        30\n",
      "weighted avg       1.00      1.00      1.00        30\n",
      "\n",
      "\n",
      "Prediction for [15cm, 70kg]: Male\n"
     ]
    }
   ],
   "source": [
    "import numpy as np\n",
    "import pandas as pd\n",
    "from sklearn.model_selection import train_test_split\n",
    "from sklearn.preprocessing import StandardScaler\n",
    "from sklearn.neighbors import KNeighborsClassifier\n",
    "from sklearn.metrics import classification_report, confusion_matrix\n",
    "\n",
    "# Generate sample data (Gender: Hair Length, Weight)\n",
    "np.random.seed(42)\n",
    "male = np.column_stack([np.random.normal(12, 2, 50), np.random.normal(75, 10, 50)])\n",
    "female = np.column_stack([np.random.normal(18, 2, 50), np.random.normal(60, 8, 50)])\n",
    "X = np.vstack([male, female])\n",
    "y = np.hstack([np.zeros(50), np.ones(50)])\n",
    "\n",
    "# Split data and scale features\n",
    "X_train, X_test, y_train, y_test = train_test_split(X, y, test_size=0.3, random_state=42)\n",
    "scaler = StandardScaler()\n",
    "X_train_scaled = scaler.fit_transform(X_train)\n",
    "X_test_scaled = scaler.transform(X_test)\n",
    "\n",
    "# Train and evaluate KNN classifier\n",
    "classifier = KNeighborsClassifier(n_neighbors=5)\n",
    "classifier.fit(X_train_scaled, y_train)\n",
    "y_pred = classifier.predict(X_test_scaled)\n",
    "\n",
    "# Results\n",
    "print(\"Confusion Matrix:\")\n",
    "print(confusion_matrix(y_test, y_pred))\n",
    "print(\"\\nClassification Report:\")\n",
    "print(classification_report(y_test, y_pred, target_names=['Male', 'Female']))\n",
    "\n",
    "# Example prediction\n",
    "new_person = np.array([[15, 70]])  # Hair length 15cm, weight 70kg\n",
    "prediction = classifier.predict(scaler.transform(new_person))\n",
    "print(\"\\nPrediction for [15cm, 70kg]:\", \"Female\" if prediction[0] == 1 else \"Male\")"
   ]
  },
  {
   "cell_type": "code",
   "execution_count": null,
   "id": "37145d7d-ccc6-4e9f-a7bf-e4b09fb44c9c",
   "metadata": {},
   "outputs": [],
   "source": []
  }
 ],
 "metadata": {
  "kernelspec": {
   "display_name": "Python 3.9 (TensorFlow)",
   "language": "python",
   "name": "tensorflow"
  },
  "language_info": {
   "codemirror_mode": {
    "name": "ipython",
    "version": 3
   },
   "file_extension": ".py",
   "mimetype": "text/x-python",
   "name": "python",
   "nbconvert_exporter": "python",
   "pygments_lexer": "ipython3",
   "version": "3.9.18"
  }
 },
 "nbformat": 4,
 "nbformat_minor": 5
}
