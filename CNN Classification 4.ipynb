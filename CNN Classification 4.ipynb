{
 "cells": [
  {
   "cell_type": "code",
   "execution_count": 1,
   "metadata": {
    "id": "3XG7GCuqvCXp"
   },
   "outputs": [],
   "source": [
    "import tensorflow as tf\n",
    "from tensorflow.keras import  datasets,  layers, models\n",
    "from tensorflow.keras.optimizers import Adam\n",
    "from tensorflow.keras.preprocessing.image import\tImageDataGenerator\n",
    "from sklearn.model_selection import train_test_split\n",
    "import matplotlib.pyplot as plt\n"
   ]
  },
  {
   "cell_type": "code",
   "execution_count": 2,
   "metadata": {
    "colab": {
     "base_uri": "https://localhost:8080/"
    },
    "id": "UrfUP9KEvO7y",
    "outputId": "81076241-788b-4d68-8c25-7d0d35aa5369"
   },
   "outputs": [],
   "source": [
    "# Load and preprocess the MNIST dataset\n",
    "(train_images, train_labels), (test_images, test_labels) = datasets.mnist.load_data()\n",
    "train_images, test_images = train_images / 255.0, test_images / 255.0\n",
    "\n"
   ]
  },
  {
   "cell_type": "code",
   "execution_count": 3,
   "metadata": {
    "id": "iOf_qdLUyaRe"
   },
   "outputs": [],
   "source": [
    "# Add channel dimension to the images\n",
    "train_images = train_images.reshape((60000, 28, 28, 1))\n",
    "test_images = test_images.reshape((10000, 28, 28, 1))\n",
    "\n"
   ]
  },
  {
   "cell_type": "code",
   "execution_count": 5,
   "metadata": {
    "id": "eY3eJB2aykeo"
   },
   "outputs": [],
   "source": [
    "# Split the dataset into training and validation sets\n",
    "train_images, val_images, train_labels, val_labels = train_test_split( train_images, train_labels, test_size=0.1, random_state=42)\n"
   ]
  },
  {
   "cell_type": "code",
   "execution_count": 9,
   "metadata": {
    "id": "sNhaAt06ypBt"
   },
   "outputs": [],
   "source": [
    "# Data augmentation for training images\n",
    "datagen\t=\tImageDataGenerator(rotation_range=10,\tzoom_range=0.1,\twidth_shift_range=0.1, height_shift_range=0.1)\n",
    "datagen.fit(train_images)\n"
   ]
  },
  {
   "cell_type": "code",
   "execution_count": 11,
   "metadata": {
    "id": "uhb3RkJ6ysqE"
   },
   "outputs": [],
   "source": [
    "# Create a CNN model with hyperparameter tuning and regularization\n",
    "model = models.Sequential()\n",
    "model.add(layers.Conv2D(32, (3, 3), activation='relu', input_shape=(28, 28, 1)))\n",
    "model.add(layers.MaxPooling2D((2, 2)))\n",
    "model.add(layers.Conv2D(64, (3, 3), activation='relu'))\n",
    "model.add(layers.MaxPooling2D((2, 2)))\n",
    "model.add(layers.Conv2D(128, (3, 3), activation='relu'))\n",
    "model.add(layers.Flatten())\n",
    "model.add(layers.Dropout(0.5))\n",
    "model.add(layers.Dense(128,\tactivation='relu'))\n",
    "model.add(layers.Dense(10, activation='softmax'))\n"
   ]
  },
  {
   "cell_type": "code",
   "execution_count": 13,
   "metadata": {
    "id": "rdQyzzmYyv-a"
   },
   "outputs": [],
   "source": [
    "# Compile the model\n",
    "model.compile(optimizer=Adam(learning_rate=0.001),\tloss='sparse_categorical_crossentropy', metrics=['accuracy'])\n"
   ]
  },
  {
   "cell_type": "code",
   "execution_count": 15,
   "metadata": {
    "colab": {
     "base_uri": "https://localhost:8080/"
    },
    "id": "Zjh8-S3ny_fG",
    "outputId": "0cf7f264-7e49-45b1-8586-7f22470a9cf4"
   },
   "outputs": [
    {
     "name": "stdout",
     "output_type": "stream",
     "text": [
      "Epoch 1/20\n",
      "844/844 [==============================] - 14s 17ms/step - loss: 0.3928 - accuracy: 0.8732 - val_loss: 0.0673 - val_accuracy: 0.9788\n",
      "Epoch 2/20\n",
      "844/844 [==============================] - 14s 17ms/step - loss: 0.1330 - accuracy: 0.9589 - val_loss: 0.0426 - val_accuracy: 0.9862\n",
      "Epoch 3/20\n",
      "844/844 [==============================] - 14s 17ms/step - loss: 0.0970 - accuracy: 0.9698 - val_loss: 0.0340 - val_accuracy: 0.9903\n",
      "Epoch 4/20\n",
      "844/844 [==============================] - 14s 17ms/step - loss: 0.0815 - accuracy: 0.9747 - val_loss: 0.0306 - val_accuracy: 0.9902\n",
      "Epoch 5/20\n",
      "844/844 [==============================] - 14s 17ms/step - loss: 0.0694 - accuracy: 0.9784 - val_loss: 0.0434 - val_accuracy: 0.9888\n",
      "Epoch 6/20\n",
      "844/844 [==============================] - 14s 17ms/step - loss: 0.0611 - accuracy: 0.9806 - val_loss: 0.0247 - val_accuracy: 0.9915\n",
      "Epoch 7/20\n",
      "844/844 [==============================] - 14s 17ms/step - loss: 0.0570 - accuracy: 0.9826 - val_loss: 0.0311 - val_accuracy: 0.9915\n",
      "Epoch 8/20\n",
      "844/844 [==============================] - 14s 17ms/step - loss: 0.0521 - accuracy: 0.9836 - val_loss: 0.0332 - val_accuracy: 0.9908\n",
      "Epoch 9/20\n",
      "844/844 [==============================] - 14s 16ms/step - loss: 0.0502 - accuracy: 0.9848 - val_loss: 0.0277 - val_accuracy: 0.9913\n",
      "Epoch 10/20\n",
      "844/844 [==============================] - 14s 17ms/step - loss: 0.0480 - accuracy: 0.9852 - val_loss: 0.0300 - val_accuracy: 0.9912\n",
      "Epoch 11/20\n",
      "844/844 [==============================] - 14s 17ms/step - loss: 0.0460 - accuracy: 0.9860 - val_loss: 0.0270 - val_accuracy: 0.9925\n",
      "Epoch 12/20\n",
      "844/844 [==============================] - 14s 17ms/step - loss: 0.0425 - accuracy: 0.9870 - val_loss: 0.0291 - val_accuracy: 0.9922\n",
      "Epoch 13/20\n",
      "844/844 [==============================] - 14s 17ms/step - loss: 0.0423 - accuracy: 0.9872 - val_loss: 0.0226 - val_accuracy: 0.9928\n",
      "Epoch 14/20\n",
      "844/844 [==============================] - 14s 17ms/step - loss: 0.0409 - accuracy: 0.9878 - val_loss: 0.0266 - val_accuracy: 0.9927\n",
      "Epoch 15/20\n",
      "844/844 [==============================] - 14s 17ms/step - loss: 0.0399 - accuracy: 0.9876 - val_loss: 0.0244 - val_accuracy: 0.9933\n",
      "Epoch 16/20\n",
      "844/844 [==============================] - 14s 17ms/step - loss: 0.0363 - accuracy: 0.9890 - val_loss: 0.0247 - val_accuracy: 0.9932\n",
      "Epoch 17/20\n",
      "844/844 [==============================] - 14s 17ms/step - loss: 0.0396 - accuracy: 0.9880 - val_loss: 0.0211 - val_accuracy: 0.9938\n",
      "Epoch 18/20\n",
      "844/844 [==============================] - 14s 17ms/step - loss: 0.0366 - accuracy: 0.9890 - val_loss: 0.0238 - val_accuracy: 0.9938\n",
      "Epoch 19/20\n",
      "844/844 [==============================] - 14s 17ms/step - loss: 0.0342 - accuracy: 0.9894 - val_loss: 0.0215 - val_accuracy: 0.9932\n",
      "Epoch 20/20\n",
      "844/844 [==============================] - 14s 17ms/step - loss: 0.0363 - accuracy: 0.9891 - val_loss: 0.0301 - val_accuracy: 0.9920\n",
      "313/313 [==============================] - 1s 3ms/step - loss: 0.0213 - accuracy: 0.9936\n",
      "Test Accuracy: 0.9936000108718872\n"
     ]
    }
   ],
   "source": [
    "# Train the model with data augmentation\n",
    "history = model.fit(datagen.flow(train_images, train_labels, batch_size=64),\n",
    "epochs=20, validation_data=(val_images, val_labels))\n",
    "# Evaluate the model on the test set\n",
    "test_loss,\ttest_acc\t=\tmodel.evaluate(test_images,\ttest_labels)\n",
    "print(f\"Test Accuracy: {test_acc}\")\n"
   ]
  },
  {
   "cell_type": "code",
   "execution_count": 21,
   "metadata": {
    "colab": {
     "base_uri": "https://localhost:8080/",
     "height": 489
    },
    "id": "xapzziGjzC_t",
    "outputId": "f1ba3800-d9fb-4eeb-d614-38d6cccd3e11"
   },
   "outputs": [
    {
     "data": {
      "image/png": "[encoded data removed]",
      "text/plain": [
       "<Figure size 640x480 with 1 Axes>"
      ]
     },
     "metadata": {},
     "output_type": "display_data"
    }
   ],
   "source": [
    "# Plot training history\n",
    "plt.plot(history.history['accuracy'],\n",
    "label='Train Accuracy')\n",
    "plt.plot(history.history['val_accuracy'],\n",
    "label='Validation Accuracy')\n",
    "plt.xlabel('Epoch')\n",
    "plt.ylabel('Accuracy')\n",
    "plt.legend()\n",
    "plt.show()\n"
   ]
  },
  {
   "cell_type": "code",
   "execution_count": null,
   "metadata": {
    "id": "F1A8Xphhr0Am"
   },
   "outputs": [],
   "source": []
  }
 ],
 "metadata": {
  "colab": {
   "provenance": []
  },
  "kernelspec": {
   "display_name": "Python 3.9 (TensorFlow)",
   "language": "python",
   "name": "tensorflow"
  },
  "language_info": {
   "codemirror_mode": {
    "name": "ipython",
    "version": 3
   },
   "file_extension": ".py",
   "mimetype": "text/x-python",
   "name": "python",
   "nbconvert_exporter": "python",
   "pygments_lexer": "ipython3",
   "version": "3.9.18"
  }
 },
 "nbformat": 4,
 "nbformat_minor": 4
}
